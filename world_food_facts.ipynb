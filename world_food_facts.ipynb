{
  "cells": [
    {
      "cell_type": "markdown",
      "metadata": {
        "id": "view-in-github",
        "colab_type": "text"
      },
      "source": [
        "<a href=\"https://colab.research.google.com/github/vanessamr/data_wrangling/blob/main/world_food_facts.ipynb\" target=\"_parent\"><img src=\"https://colab.research.google.com/assets/colab-badge.svg\" alt=\"Open In Colab\"/></a>"
      ]
    },
    {
      "cell_type": "markdown",
      "metadata": {
        "id": "UqwkhI4kFEqS"
      },
      "source": [
        "# Ex1 - Getting and knowing your Data\n",
        "Check out [World Food Facts Exercises Video Tutorial](https://youtu.be/_jCSK4cMcVw) to watch a data scientist go through the exercises"
      ]
    },
    {
      "cell_type": "markdown",
      "metadata": {
        "id": "8-Ko_cltFEqX"
      },
      "source": [
        "### Step 1. Go to https://www.kaggle.com/openfoodfacts/world-food-facts/data"
      ]
    },
    {
      "cell_type": "markdown",
      "metadata": {
        "id": "EBSY_-5YFEqY"
      },
      "source": [
        "###  Step 2. Download the dataset to your computer and unzip it."
      ]
    },
    {
      "cell_type": "code",
      "source": [
        "import pandas as pd\n",
        "import numpy as np"
      ],
      "metadata": {
        "id": "XGDnT6HoSbqt"
      },
      "execution_count": null,
      "outputs": []
    },
    {
      "cell_type": "markdown",
      "metadata": {
        "id": "sdQklpMeFEqs"
      },
      "source": [
        "### Step 3. Use the tsv file and assign it to a dataframe called food"
      ]
    },
    {
      "cell_type": "code",
      "source": [
        "phat= '/content/en.openfoodfacts.org.products.tsv'\n",
        "tabla= pd.read_csv(phat, sep='\\t')"
      ],
      "metadata": {
        "id": "v4LthLa0SwaF",
        "colab": {
          "base_uri": "https://localhost:8080/"
        },
        "outputId": "9b2a6ef3-db1e-4ce9-ea8b-41f62fde163d"
      },
      "execution_count": null,
      "outputs": [
        {
          "output_type": "stream",
          "name": "stderr",
          "text": [
            "/usr/local/lib/python3.7/dist-packages/IPython/core/interactiveshell.py:2882: DtypeWarning: Columns (0,3,5,19,20,24,25,26,27,28,36,37,38,39,48) have mixed types.Specify dtype option on import or set low_memory=False.\n",
            "  exec(code_obj, self.user_global_ns, self.user_ns)\n"
          ]
        }
      ]
    },
    {
      "cell_type": "markdown",
      "metadata": {
        "id": "-3A8tiVfFEqw"
      },
      "source": [
        "### Step 4. See the first 5 entries"
      ]
    },
    {
      "cell_type": "code",
      "source": [
        "tabla.head(5)"
      ],
      "metadata": {
        "colab": {
          "base_uri": "https://localhost:8080/",
          "height": 456
        },
        "id": "yAa3VwKZyxgT",
        "outputId": "7962d663-c3b9-4988-cdad-ce76d52fcb06"
      },
      "execution_count": null,
      "outputs": [
        {
          "output_type": "execute_result",
          "data": {
            "text/plain": [
              "    code                                                url  \\\n",
              "0   3087  http://world-en.openfoodfacts.org/product/0000...   \n",
              "1   4530  http://world-en.openfoodfacts.org/product/0000...   \n",
              "2   4559  http://world-en.openfoodfacts.org/product/0000...   \n",
              "3  16087  http://world-en.openfoodfacts.org/product/0000...   \n",
              "4  16094  http://world-en.openfoodfacts.org/product/0000...   \n",
              "\n",
              "                      creator   created_t      created_datetime  \\\n",
              "0  openfoodfacts-contributors  1474103866  2016-09-17T09:17:46Z   \n",
              "1             usda-ndb-import  1489069957  2017-03-09T14:32:37Z   \n",
              "2             usda-ndb-import  1489069957  2017-03-09T14:32:37Z   \n",
              "3             usda-ndb-import  1489055731  2017-03-09T10:35:31Z   \n",
              "4             usda-ndb-import  1489055653  2017-03-09T10:34:13Z   \n",
              "\n",
              "  last_modified_t last_modified_datetime                    product_name  \\\n",
              "0      1474103893   2016-09-17T09:18:13Z              Farine de blé noir   \n",
              "1      1489069957   2017-03-09T14:32:37Z  Banana Chips Sweetened (Whole)   \n",
              "2      1489069957   2017-03-09T14:32:37Z                         Peanuts   \n",
              "3      1489055731   2017-03-09T10:35:31Z          Organic Salted Nut Mix   \n",
              "4      1489055653   2017-03-09T10:34:13Z                 Organic Polenta   \n",
              "\n",
              "  generic_name quantity  ... fruits-vegetables-nuts_100g  \\\n",
              "0          NaN      1kg  ...                         NaN   \n",
              "1          NaN      NaN  ...                         NaN   \n",
              "2          NaN      NaN  ...                         NaN   \n",
              "3          NaN      NaN  ...                         NaN   \n",
              "4          NaN      NaN  ...                         NaN   \n",
              "\n",
              "  fruits-vegetables-nuts-estimate_100g collagen-meat-protein-ratio_100g  \\\n",
              "0                                  NaN                              NaN   \n",
              "1                                  NaN                              NaN   \n",
              "2                                  NaN                              NaN   \n",
              "3                                  NaN                              NaN   \n",
              "4                                  NaN                              NaN   \n",
              "\n",
              "  cocoa_100g chlorophyl_100g carbon-footprint_100g nutrition-score-fr_100g  \\\n",
              "0        NaN             NaN                   NaN                     NaN   \n",
              "1        NaN             NaN                   NaN                    14.0   \n",
              "2        NaN             NaN                   NaN                     0.0   \n",
              "3        NaN             NaN                   NaN                    12.0   \n",
              "4        NaN             NaN                   NaN                     NaN   \n",
              "\n",
              "  nutrition-score-uk_100g glycemic-index_100g water-hardness_100g  \n",
              "0                     NaN                 NaN                 NaN  \n",
              "1                    14.0                 NaN                 NaN  \n",
              "2                     0.0                 NaN                 NaN  \n",
              "3                    12.0                 NaN                 NaN  \n",
              "4                     NaN                 NaN                 NaN  \n",
              "\n",
              "[5 rows x 163 columns]"
            ],
            "text/html": [
              "\n",
              "  <div id=\"df-0c77a667-518f-46ae-b81e-16ef7f374699\">\n",
              "    <div class=\"colab-df-container\">\n",
              "      <div>\n",
              "<style scoped>\n",
              "    .dataframe tbody tr th:only-of-type {\n",
              "        vertical-align: middle;\n",
              "    }\n",
              "\n",
              "    .dataframe tbody tr th {\n",
              "        vertical-align: top;\n",
              "    }\n",
              "\n",
              "    .dataframe thead th {\n",
              "        text-align: right;\n",
              "    }\n",
              "</style>\n",
              "<table border=\"1\" class=\"dataframe\">\n",
              "  <thead>\n",
              "    <tr style=\"text-align: right;\">\n",
              "      <th></th>\n",
              "      <th>code</th>\n",
              "      <th>url</th>\n",
              "      <th>creator</th>\n",
              "      <th>created_t</th>\n",
              "      <th>created_datetime</th>\n",
              "      <th>last_modified_t</th>\n",
              "      <th>last_modified_datetime</th>\n",
              "      <th>product_name</th>\n",
              "      <th>generic_name</th>\n",
              "      <th>quantity</th>\n",
              "      <th>...</th>\n",
              "      <th>fruits-vegetables-nuts_100g</th>\n",
              "      <th>fruits-vegetables-nuts-estimate_100g</th>\n",
              "      <th>collagen-meat-protein-ratio_100g</th>\n",
              "      <th>cocoa_100g</th>\n",
              "      <th>chlorophyl_100g</th>\n",
              "      <th>carbon-footprint_100g</th>\n",
              "      <th>nutrition-score-fr_100g</th>\n",
              "      <th>nutrition-score-uk_100g</th>\n",
              "      <th>glycemic-index_100g</th>\n",
              "      <th>water-hardness_100g</th>\n",
              "    </tr>\n",
              "  </thead>\n",
              "  <tbody>\n",
              "    <tr>\n",
              "      <th>0</th>\n",
              "      <td>3087</td>\n",
              "      <td>http://world-en.openfoodfacts.org/product/0000...</td>\n",
              "      <td>openfoodfacts-contributors</td>\n",
              "      <td>1474103866</td>\n",
              "      <td>2016-09-17T09:17:46Z</td>\n",
              "      <td>1474103893</td>\n",
              "      <td>2016-09-17T09:18:13Z</td>\n",
              "      <td>Farine de blé noir</td>\n",
              "      <td>NaN</td>\n",
              "      <td>1kg</td>\n",
              "      <td>...</td>\n",
              "      <td>NaN</td>\n",
              "      <td>NaN</td>\n",
              "      <td>NaN</td>\n",
              "      <td>NaN</td>\n",
              "      <td>NaN</td>\n",
              "      <td>NaN</td>\n",
              "      <td>NaN</td>\n",
              "      <td>NaN</td>\n",
              "      <td>NaN</td>\n",
              "      <td>NaN</td>\n",
              "    </tr>\n",
              "    <tr>\n",
              "      <th>1</th>\n",
              "      <td>4530</td>\n",
              "      <td>http://world-en.openfoodfacts.org/product/0000...</td>\n",
              "      <td>usda-ndb-import</td>\n",
              "      <td>1489069957</td>\n",
              "      <td>2017-03-09T14:32:37Z</td>\n",
              "      <td>1489069957</td>\n",
              "      <td>2017-03-09T14:32:37Z</td>\n",
              "      <td>Banana Chips Sweetened (Whole)</td>\n",
              "      <td>NaN</td>\n",
              "      <td>NaN</td>\n",
              "      <td>...</td>\n",
              "      <td>NaN</td>\n",
              "      <td>NaN</td>\n",
              "      <td>NaN</td>\n",
              "      <td>NaN</td>\n",
              "      <td>NaN</td>\n",
              "      <td>NaN</td>\n",
              "      <td>14.0</td>\n",
              "      <td>14.0</td>\n",
              "      <td>NaN</td>\n",
              "      <td>NaN</td>\n",
              "    </tr>\n",
              "    <tr>\n",
              "      <th>2</th>\n",
              "      <td>4559</td>\n",
              "      <td>http://world-en.openfoodfacts.org/product/0000...</td>\n",
              "      <td>usda-ndb-import</td>\n",
              "      <td>1489069957</td>\n",
              "      <td>2017-03-09T14:32:37Z</td>\n",
              "      <td>1489069957</td>\n",
              "      <td>2017-03-09T14:32:37Z</td>\n",
              "      <td>Peanuts</td>\n",
              "      <td>NaN</td>\n",
              "      <td>NaN</td>\n",
              "      <td>...</td>\n",
              "      <td>NaN</td>\n",
              "      <td>NaN</td>\n",
              "      <td>NaN</td>\n",
              "      <td>NaN</td>\n",
              "      <td>NaN</td>\n",
              "      <td>NaN</td>\n",
              "      <td>0.0</td>\n",
              "      <td>0.0</td>\n",
              "      <td>NaN</td>\n",
              "      <td>NaN</td>\n",
              "    </tr>\n",
              "    <tr>\n",
              "      <th>3</th>\n",
              "      <td>16087</td>\n",
              "      <td>http://world-en.openfoodfacts.org/product/0000...</td>\n",
              "      <td>usda-ndb-import</td>\n",
              "      <td>1489055731</td>\n",
              "      <td>2017-03-09T10:35:31Z</td>\n",
              "      <td>1489055731</td>\n",
              "      <td>2017-03-09T10:35:31Z</td>\n",
              "      <td>Organic Salted Nut Mix</td>\n",
              "      <td>NaN</td>\n",
              "      <td>NaN</td>\n",
              "      <td>...</td>\n",
              "      <td>NaN</td>\n",
              "      <td>NaN</td>\n",
              "      <td>NaN</td>\n",
              "      <td>NaN</td>\n",
              "      <td>NaN</td>\n",
              "      <td>NaN</td>\n",
              "      <td>12.0</td>\n",
              "      <td>12.0</td>\n",
              "      <td>NaN</td>\n",
              "      <td>NaN</td>\n",
              "    </tr>\n",
              "    <tr>\n",
              "      <th>4</th>\n",
              "      <td>16094</td>\n",
              "      <td>http://world-en.openfoodfacts.org/product/0000...</td>\n",
              "      <td>usda-ndb-import</td>\n",
              "      <td>1489055653</td>\n",
              "      <td>2017-03-09T10:34:13Z</td>\n",
              "      <td>1489055653</td>\n",
              "      <td>2017-03-09T10:34:13Z</td>\n",
              "      <td>Organic Polenta</td>\n",
              "      <td>NaN</td>\n",
              "      <td>NaN</td>\n",
              "      <td>...</td>\n",
              "      <td>NaN</td>\n",
              "      <td>NaN</td>\n",
              "      <td>NaN</td>\n",
              "      <td>NaN</td>\n",
              "      <td>NaN</td>\n",
              "      <td>NaN</td>\n",
              "      <td>NaN</td>\n",
              "      <td>NaN</td>\n",
              "      <td>NaN</td>\n",
              "      <td>NaN</td>\n",
              "    </tr>\n",
              "  </tbody>\n",
              "</table>\n",
              "<p>5 rows × 163 columns</p>\n",
              "</div>\n",
              "      <button class=\"colab-df-convert\" onclick=\"convertToInteractive('df-0c77a667-518f-46ae-b81e-16ef7f374699')\"\n",
              "              title=\"Convert this dataframe to an interactive table.\"\n",
              "              style=\"display:none;\">\n",
              "        \n",
              "  <svg xmlns=\"http://www.w3.org/2000/svg\" height=\"24px\"viewBox=\"0 0 24 24\"\n",
              "       width=\"24px\">\n",
              "    <path d=\"M0 0h24v24H0V0z\" fill=\"none\"/>\n",
              "    <path d=\"M18.56 5.44l.94 2.06.94-2.06 2.06-.94-2.06-.94-.94-2.06-.94 2.06-2.06.94zm-11 1L8.5 8.5l.94-2.06 2.06-.94-2.06-.94L8.5 2.5l-.94 2.06-2.06.94zm10 10l.94 2.06.94-2.06 2.06-.94-2.06-.94-.94-2.06-.94 2.06-2.06.94z\"/><path d=\"M17.41 7.96l-1.37-1.37c-.4-.4-.92-.59-1.43-.59-.52 0-1.04.2-1.43.59L10.3 9.45l-7.72 7.72c-.78.78-.78 2.05 0 2.83L4 21.41c.39.39.9.59 1.41.59.51 0 1.02-.2 1.41-.59l7.78-7.78 2.81-2.81c.8-.78.8-2.07 0-2.86zM5.41 20L4 18.59l7.72-7.72 1.47 1.35L5.41 20z\"/>\n",
              "  </svg>\n",
              "      </button>\n",
              "      \n",
              "  <style>\n",
              "    .colab-df-container {\n",
              "      display:flex;\n",
              "      flex-wrap:wrap;\n",
              "      gap: 12px;\n",
              "    }\n",
              "\n",
              "    .colab-df-convert {\n",
              "      background-color: #E8F0FE;\n",
              "      border: none;\n",
              "      border-radius: 50%;\n",
              "      cursor: pointer;\n",
              "      display: none;\n",
              "      fill: #1967D2;\n",
              "      height: 32px;\n",
              "      padding: 0 0 0 0;\n",
              "      width: 32px;\n",
              "    }\n",
              "\n",
              "    .colab-df-convert:hover {\n",
              "      background-color: #E2EBFA;\n",
              "      box-shadow: 0px 1px 2px rgba(60, 64, 67, 0.3), 0px 1px 3px 1px rgba(60, 64, 67, 0.15);\n",
              "      fill: #174EA6;\n",
              "    }\n",
              "\n",
              "    [theme=dark] .colab-df-convert {\n",
              "      background-color: #3B4455;\n",
              "      fill: #D2E3FC;\n",
              "    }\n",
              "\n",
              "    [theme=dark] .colab-df-convert:hover {\n",
              "      background-color: #434B5C;\n",
              "      box-shadow: 0px 1px 3px 1px rgba(0, 0, 0, 0.15);\n",
              "      filter: drop-shadow(0px 1px 2px rgba(0, 0, 0, 0.3));\n",
              "      fill: #FFFFFF;\n",
              "    }\n",
              "  </style>\n",
              "\n",
              "      <script>\n",
              "        const buttonEl =\n",
              "          document.querySelector('#df-0c77a667-518f-46ae-b81e-16ef7f374699 button.colab-df-convert');\n",
              "        buttonEl.style.display =\n",
              "          google.colab.kernel.accessAllowed ? 'block' : 'none';\n",
              "\n",
              "        async function convertToInteractive(key) {\n",
              "          const element = document.querySelector('#df-0c77a667-518f-46ae-b81e-16ef7f374699');\n",
              "          const dataTable =\n",
              "            await google.colab.kernel.invokeFunction('convertToInteractive',\n",
              "                                                     [key], {});\n",
              "          if (!dataTable) return;\n",
              "\n",
              "          const docLinkHtml = 'Like what you see? Visit the ' +\n",
              "            '<a target=\"_blank\" href=https://colab.research.google.com/notebooks/data_table.ipynb>data table notebook</a>'\n",
              "            + ' to learn more about interactive tables.';\n",
              "          element.innerHTML = '';\n",
              "          dataTable['output_type'] = 'display_data';\n",
              "          await google.colab.output.renderOutput(dataTable, element);\n",
              "          const docLink = document.createElement('div');\n",
              "          docLink.innerHTML = docLinkHtml;\n",
              "          element.appendChild(docLink);\n",
              "        }\n",
              "      </script>\n",
              "    </div>\n",
              "  </div>\n",
              "  "
            ]
          },
          "metadata": {},
          "execution_count": 8
        }
      ]
    },
    {
      "cell_type": "markdown",
      "metadata": {
        "id": "EiXaZFz3FEqx"
      },
      "source": [
        "### Step 5. What is the number of observations in the dataset?"
      ]
    },
    {
      "cell_type": "code",
      "source": [
        "#muestra filas y columnas\n",
        " tabla.shape"
      ],
      "metadata": {
        "colab": {
          "base_uri": "https://localhost:8080/"
        },
        "id": "JS2U9yiUzMym",
        "outputId": "2fb92a97-b4ea-46e9-bb08-1b021e0eac80"
      },
      "execution_count": null,
      "outputs": [
        {
          "output_type": "execute_result",
          "data": {
            "text/plain": [
              "(281286, 163)"
            ]
          },
          "metadata": {},
          "execution_count": 9
        }
      ]
    },
    {
      "cell_type": "code",
      "source": [
        "tabla.size"
      ],
      "metadata": {
        "colab": {
          "base_uri": "https://localhost:8080/"
        },
        "id": "jPZUWQ3X3G1f",
        "outputId": "dfe05e86-ee9a-496c-d8c9-42f4db944529"
      },
      "execution_count": null,
      "outputs": [
        {
          "output_type": "execute_result",
          "data": {
            "text/plain": [
              "45849618"
            ]
          },
          "metadata": {},
          "execution_count": 10
        }
      ]
    },
    {
      "cell_type": "markdown",
      "metadata": {
        "id": "sKHIufXoFEqz"
      },
      "source": [
        "### Step 6. What is the number of columns in the dataset?"
      ]
    },
    {
      "cell_type": "code",
      "source": [
        "tabla.info"
      ],
      "metadata": {
        "colab": {
          "base_uri": "https://localhost:8080/"
        },
        "id": "9C-MEEA53Szk",
        "outputId": "63b05513-bd31-4ec0-c8ed-91983201dc2a"
      },
      "execution_count": null,
      "outputs": [
        {
          "output_type": "execute_result",
          "data": {
            "text/plain": [
              "<bound method DataFrame.info of                  code                                                url  \\\n",
              "0                3087  http://world-en.openfoodfacts.org/product/0000...   \n",
              "1                4530  http://world-en.openfoodfacts.org/product/0000...   \n",
              "2                4559  http://world-en.openfoodfacts.org/product/0000...   \n",
              "3               16087  http://world-en.openfoodfacts.org/product/0000...   \n",
              "4               16094  http://world-en.openfoodfacts.org/product/0000...   \n",
              "...               ...                                                ...   \n",
              "281281  4004786036020  http://world-en.openfoodfacts.org/product/4004...   \n",
              "281282  4004786037126  http://world-en.openfoodfacts.org/product/4004...   \n",
              "281283  4004790101332  http://world-en.openfoodfacts.org/product/4004...   \n",
              "281284  4004790101707  http://world-en.openfoodfacts.org/product/4004...   \n",
              "281285  4004790101905  http://world-en.openfoodfacts.org/product/4004...   \n",
              "\n",
              "                           creator   created_t      created_datetime  \\\n",
              "0       openfoodfacts-contributors  1474103866  2016-09-17T09:17:46Z   \n",
              "1                  usda-ndb-import  1489069957  2017-03-09T14:32:37Z   \n",
              "2                  usda-ndb-import  1489069957  2017-03-09T14:32:37Z   \n",
              "3                  usda-ndb-import  1489055731  2017-03-09T10:35:31Z   \n",
              "4                  usda-ndb-import  1489055653  2017-03-09T10:34:13Z   \n",
              "...                            ...         ...                   ...   \n",
              "281281                   twoflower  1435350542  2015-06-26T20:29:02Z   \n",
              "281282                       smias  1467027195  2016-06-27T11:33:15Z   \n",
              "281283                 anticultist  1480178133  2016-11-26T16:35:33Z   \n",
              "281284                 anticultist  1488922565  2017-03-07T21:36:05Z   \n",
              "281285                     davidak  1455658437  2016-02-16T21:33:57Z   \n",
              "\n",
              "       last_modified_t last_modified_datetime  \\\n",
              "0           1474103893   2016-09-17T09:18:13Z   \n",
              "1           1489069957   2017-03-09T14:32:37Z   \n",
              "2           1489069957   2017-03-09T14:32:37Z   \n",
              "3           1489055731   2017-03-09T10:35:31Z   \n",
              "4           1489055653   2017-03-09T10:34:13Z   \n",
              "...                ...                    ...   \n",
              "281281      1435350871   2015-06-26T20:34:31Z   \n",
              "281282      1467224469   2016-06-29T18:21:09Z   \n",
              "281283      1480760760   2016-12-03T10:26:00Z   \n",
              "281284      1503428380   2017-08-22T18:59:40Z   \n",
              "281285      1478373758   2016-11-05T19:22:38Z   \n",
              "\n",
              "                                      product_name  \\\n",
              "0                               Farine de blé noir   \n",
              "1                   Banana Chips Sweetened (Whole)   \n",
              "2                                          Peanuts   \n",
              "3                           Organic Salted Nut Mix   \n",
              "4                                  Organic Polenta   \n",
              "...                                            ...   \n",
              "281281                        Salami Minis Paprika   \n",
              "281282                            Salami Pure Pork   \n",
              "281283  Brotaufstrick Vegan Art Pfälzer Leberwurst   \n",
              "281284                       Vegane Schinken Wurst   \n",
              "281285                               Art Leberkäse   \n",
              "\n",
              "                                             generic_name quantity  ...  \\\n",
              "0                                                     NaN      1kg  ...   \n",
              "1                                                     NaN      NaN  ...   \n",
              "2                                                     NaN      NaN  ...   \n",
              "3                                                     NaN      NaN  ...   \n",
              "4                                                     NaN      NaN  ...   \n",
              "...                                                   ...      ...  ...   \n",
              "281281                                                NaN     80 g  ...   \n",
              "281282                             Luftgetrocknete Salami    250 g  ...   \n",
              "281283  Brotaufstrich aus Tofu mit Grünkern, Kräutern ...     125g  ...   \n",
              "281284  Gewürzte Zubereitung aus Sojaprotein, im nicht...     175g  ...   \n",
              "281285                                                NaN      NaN  ...   \n",
              "\n",
              "       fruits-vegetables-nuts_100g fruits-vegetables-nuts-estimate_100g  \\\n",
              "0                              NaN                                  NaN   \n",
              "1                              NaN                                  NaN   \n",
              "2                              NaN                                  NaN   \n",
              "3                              NaN                                  NaN   \n",
              "4                              NaN                                  NaN   \n",
              "...                            ...                                  ...   \n",
              "281281                         NaN                                  NaN   \n",
              "281282                         NaN                                  NaN   \n",
              "281283                         NaN                                  NaN   \n",
              "281284                         NaN                                  NaN   \n",
              "281285                         NaN                                  NaN   \n",
              "\n",
              "       collagen-meat-protein-ratio_100g cocoa_100g chlorophyl_100g  \\\n",
              "0                                   NaN        NaN             NaN   \n",
              "1                                   NaN        NaN             NaN   \n",
              "2                                   NaN        NaN             NaN   \n",
              "3                                   NaN        NaN             NaN   \n",
              "4                                   NaN        NaN             NaN   \n",
              "...                                 ...        ...             ...   \n",
              "281281                              NaN        NaN             NaN   \n",
              "281282                              NaN        NaN             NaN   \n",
              "281283                              NaN        NaN             NaN   \n",
              "281284                              NaN        NaN             NaN   \n",
              "281285                              NaN        NaN             NaN   \n",
              "\n",
              "       carbon-footprint_100g nutrition-score-fr_100g nutrition-score-uk_100g  \\\n",
              "0                        NaN                     NaN                     NaN   \n",
              "1                        NaN                    14.0                    14.0   \n",
              "2                        NaN                     0.0                     0.0   \n",
              "3                        NaN                    12.0                    12.0   \n",
              "4                        NaN                     NaN                     NaN   \n",
              "...                      ...                     ...                     ...   \n",
              "281281                   NaN                    26.0                    26.0   \n",
              "281282                   NaN                    25.0                    25.0   \n",
              "281283                   NaN                     1.0                     1.0   \n",
              "281284                   NaN                    12.0                    12.0   \n",
              "281285                   NaN                     NaN                     NaN   \n",
              "\n",
              "       glycemic-index_100g water-hardness_100g  \n",
              "0                      NaN                 NaN  \n",
              "1                      NaN                 NaN  \n",
              "2                      NaN                 NaN  \n",
              "3                      NaN                 NaN  \n",
              "4                      NaN                 NaN  \n",
              "...                    ...                 ...  \n",
              "281281                 NaN                 NaN  \n",
              "281282                 NaN                 NaN  \n",
              "281283                 NaN                 NaN  \n",
              "281284                 NaN                 NaN  \n",
              "281285                 NaN                 NaN  \n",
              "\n",
              "[281286 rows x 163 columns]>"
            ]
          },
          "metadata": {},
          "execution_count": 11
        }
      ]
    },
    {
      "cell_type": "code",
      "source": [
        "len (tabla.columns)"
      ],
      "metadata": {
        "colab": {
          "base_uri": "https://localhost:8080/"
        },
        "id": "ZNkfKR3J55tL",
        "outputId": "dc378733-539b-4878-e66f-85b39291e731"
      },
      "execution_count": null,
      "outputs": [
        {
          "output_type": "execute_result",
          "data": {
            "text/plain": [
              "163"
            ]
          },
          "metadata": {},
          "execution_count": 12
        }
      ]
    },
    {
      "cell_type": "markdown",
      "metadata": {
        "id": "Riee_sKBFEq1"
      },
      "source": [
        "### Step 7. Print the name of all the columns."
      ]
    },
    {
      "cell_type": "code",
      "source": [
        "tabla.columns"
      ],
      "metadata": {
        "colab": {
          "base_uri": "https://localhost:8080/"
        },
        "id": "lmYmPe7b6Uoy",
        "outputId": "400d1d4c-8c87-4b6d-a5ac-d9c1c4e606be"
      },
      "execution_count": null,
      "outputs": [
        {
          "output_type": "execute_result",
          "data": {
            "text/plain": [
              "Index(['code', 'url', 'creator', 'created_t', 'created_datetime',\n",
              "       'last_modified_t', 'last_modified_datetime', 'product_name',\n",
              "       'generic_name', 'quantity',\n",
              "       ...\n",
              "       'fruits-vegetables-nuts_100g', 'fruits-vegetables-nuts-estimate_100g',\n",
              "       'collagen-meat-protein-ratio_100g', 'cocoa_100g', 'chlorophyl_100g',\n",
              "       'carbon-footprint_100g', 'nutrition-score-fr_100g',\n",
              "       'nutrition-score-uk_100g', 'glycemic-index_100g',\n",
              "       'water-hardness_100g'],\n",
              "      dtype='object', length=163)"
            ]
          },
          "metadata": {},
          "execution_count": 14
        }
      ]
    },
    {
      "cell_type": "markdown",
      "metadata": {
        "id": "x7AC9ZOIFEq3"
      },
      "source": [
        "### Step 8. What is the name of 105th column?"
      ]
    },
    {
      "cell_type": "code",
      "source": [
        "tabla.columns[104]"
      ],
      "metadata": {
        "colab": {
          "base_uri": "https://localhost:8080/",
          "height": 35
        },
        "id": "QLmGKuBf6ql5",
        "outputId": "8deb2343-ae4d-4c73-b7cd-bd5b5525461c"
      },
      "execution_count": null,
      "outputs": [
        {
          "output_type": "execute_result",
          "data": {
            "text/plain": [
              "'-glucose_100g'"
            ],
            "application/vnd.google.colaboratory.intrinsic+json": {
              "type": "string"
            }
          },
          "metadata": {},
          "execution_count": 16
        }
      ]
    },
    {
      "cell_type": "markdown",
      "metadata": {
        "id": "qqpB2GsxFEq4"
      },
      "source": [
        "### Step 9. What is the type of the observations of the 105th column?"
      ]
    },
    {
      "cell_type": "code",
      "source": [
        "tabla.info('-glucose_100g')"
      ],
      "metadata": {
        "colab": {
          "base_uri": "https://localhost:8080/"
        },
        "id": "E6ecMB5k7GLd",
        "outputId": "c6577abc-d629-40c8-9191-908e8895e9bc"
      },
      "execution_count": null,
      "outputs": [
        {
          "output_type": "stream",
          "name": "stdout",
          "text": [
            "<class 'pandas.core.frame.DataFrame'>\n",
            "RangeIndex: 281286 entries, 0 to 281285\n",
            "Data columns (total 163 columns):\n",
            " #    Column                                      Dtype  \n",
            "---   ------                                      -----  \n",
            " 0    code                                        object \n",
            " 1    url                                         object \n",
            " 2    creator                                     object \n",
            " 3    created_t                                   object \n",
            " 4    created_datetime                            object \n",
            " 5    last_modified_t                             object \n",
            " 6    last_modified_datetime                      object \n",
            " 7    product_name                                object \n",
            " 8    generic_name                                object \n",
            " 9    quantity                                    object \n",
            " 10   packaging                                   object \n",
            " 11   packaging_tags                              object \n",
            " 12   brands                                      object \n",
            " 13   brands_tags                                 object \n",
            " 14   categories                                  object \n",
            " 15   categories_tags                             object \n",
            " 16   categories_en                               object \n",
            " 17   origins                                     object \n",
            " 18   origins_tags                                object \n",
            " 19   manufacturing_places                        object \n",
            " 20   manufacturing_places_tags                   object \n",
            " 21   labels                                      object \n",
            " 22   labels_tags                                 object \n",
            " 23   labels_en                                   object \n",
            " 24   emb_codes                                   object \n",
            " 25   emb_codes_tags                              object \n",
            " 26   first_packaging_code_geo                    object \n",
            " 27   cities                                      object \n",
            " 28   cities_tags                                 object \n",
            " 29   purchase_places                             object \n",
            " 30   stores                                      object \n",
            " 31   countries                                   object \n",
            " 32   countries_tags                              object \n",
            " 33   countries_en                                object \n",
            " 34   ingredients_text                            object \n",
            " 35   allergens                                   object \n",
            " 36   allergens_en                                object \n",
            " 37   traces                                      object \n",
            " 38   traces_tags                                 object \n",
            " 39   traces_en                                   object \n",
            " 40   serving_size                                object \n",
            " 41   no_nutriments                               float64\n",
            " 42   additives_n                                 float64\n",
            " 43   additives                                   object \n",
            " 44   additives_tags                              object \n",
            " 45   additives_en                                object \n",
            " 46   ingredients_from_palm_oil_n                 float64\n",
            " 47   ingredients_from_palm_oil                   float64\n",
            " 48   ingredients_from_palm_oil_tags              object \n",
            " 49   ingredients_that_may_be_from_palm_oil_n     float64\n",
            " 50   ingredients_that_may_be_from_palm_oil       float64\n",
            " 51   ingredients_that_may_be_from_palm_oil_tags  object \n",
            " 52   nutrition_grade_uk                          float64\n",
            " 53   nutrition_grade_fr                          object \n",
            " 54   pnns_groups_1                               object \n",
            " 55   pnns_groups_2                               object \n",
            " 56   states                                      object \n",
            " 57   states_tags                                 object \n",
            " 58   states_en                                   object \n",
            " 59   main_category                               object \n",
            " 60   main_category_en                            object \n",
            " 61   image_url                                   object \n",
            " 62   image_small_url                             object \n",
            " 63   energy_100g                                 float64\n",
            " 64   energy-from-fat_100g                        float64\n",
            " 65   fat_100g                                    float64\n",
            " 66   saturated-fat_100g                          float64\n",
            " 67   -butyric-acid_100g                          float64\n",
            " 68   -caproic-acid_100g                          float64\n",
            " 69   -caprylic-acid_100g                         float64\n",
            " 70   -capric-acid_100g                           float64\n",
            " 71   -lauric-acid_100g                           float64\n",
            " 72   -myristic-acid_100g                         float64\n",
            " 73   -palmitic-acid_100g                         float64\n",
            " 74   -stearic-acid_100g                          float64\n",
            " 75   -arachidic-acid_100g                        float64\n",
            " 76   -behenic-acid_100g                          float64\n",
            " 77   -lignoceric-acid_100g                       float64\n",
            " 78   -cerotic-acid_100g                          float64\n",
            " 79   -montanic-acid_100g                         float64\n",
            " 80   -melissic-acid_100g                         float64\n",
            " 81   monounsaturated-fat_100g                    float64\n",
            " 82   polyunsaturated-fat_100g                    float64\n",
            " 83   omega-3-fat_100g                            float64\n",
            " 84   -alpha-linolenic-acid_100g                  float64\n",
            " 85   -eicosapentaenoic-acid_100g                 float64\n",
            " 86   -docosahexaenoic-acid_100g                  float64\n",
            " 87   omega-6-fat_100g                            float64\n",
            " 88   -linoleic-acid_100g                         float64\n",
            " 89   -arachidonic-acid_100g                      float64\n",
            " 90   -gamma-linolenic-acid_100g                  float64\n",
            " 91   -dihomo-gamma-linolenic-acid_100g           float64\n",
            " 92   omega-9-fat_100g                            float64\n",
            " 93   -oleic-acid_100g                            float64\n",
            " 94   -elaidic-acid_100g                          float64\n",
            " 95   -gondoic-acid_100g                          float64\n",
            " 96   -mead-acid_100g                             float64\n",
            " 97   -erucic-acid_100g                           float64\n",
            " 98   -nervonic-acid_100g                         float64\n",
            " 99   trans-fat_100g                              float64\n",
            " 100  cholesterol_100g                            float64\n",
            " 101  carbohydrates_100g                          float64\n",
            " 102  sugars_100g                                 float64\n",
            " 103  -sucrose_100g                               float64\n",
            " 104  -glucose_100g                               float64\n",
            " 105  -fructose_100g                              float64\n",
            " 106  -lactose_100g                               float64\n",
            " 107  -maltose_100g                               float64\n",
            " 108  -maltodextrins_100g                         float64\n",
            " 109  starch_100g                                 float64\n",
            " 110  polyols_100g                                float64\n",
            " 111  fiber_100g                                  float64\n",
            " 112  proteins_100g                               float64\n",
            " 113  casein_100g                                 float64\n",
            " 114  serum-proteins_100g                         float64\n",
            " 115  nucleotides_100g                            float64\n",
            " 116  salt_100g                                   float64\n",
            " 117  sodium_100g                                 float64\n",
            " 118  alcohol_100g                                float64\n",
            " 119  vitamin-a_100g                              float64\n",
            " 120  beta-carotene_100g                          float64\n",
            " 121  vitamin-d_100g                              float64\n",
            " 122  vitamin-e_100g                              float64\n",
            " 123  vitamin-k_100g                              float64\n",
            " 124  vitamin-c_100g                              float64\n",
            " 125  vitamin-b1_100g                             float64\n",
            " 126  vitamin-b2_100g                             float64\n",
            " 127  vitamin-pp_100g                             float64\n",
            " 128  vitamin-b6_100g                             float64\n",
            " 129  vitamin-b9_100g                             float64\n",
            " 130  folates_100g                                float64\n",
            " 131  vitamin-b12_100g                            float64\n",
            " 132  biotin_100g                                 float64\n",
            " 133  pantothenic-acid_100g                       float64\n",
            " 134  silica_100g                                 float64\n",
            " 135  bicarbonate_100g                            float64\n",
            " 136  potassium_100g                              float64\n",
            " 137  chloride_100g                               float64\n",
            " 138  calcium_100g                                float64\n",
            " 139  phosphorus_100g                             float64\n",
            " 140  iron_100g                                   float64\n",
            " 141  magnesium_100g                              float64\n",
            " 142  zinc_100g                                   float64\n",
            " 143  copper_100g                                 float64\n",
            " 144  manganese_100g                              float64\n",
            " 145  fluoride_100g                               float64\n",
            " 146  selenium_100g                               float64\n",
            " 147  chromium_100g                               float64\n",
            " 148  molybdenum_100g                             float64\n",
            " 149  iodine_100g                                 float64\n",
            " 150  caffeine_100g                               float64\n",
            " 151  taurine_100g                                float64\n",
            " 152  ph_100g                                     float64\n",
            " 153  fruits-vegetables-nuts_100g                 float64\n",
            " 154  fruits-vegetables-nuts-estimate_100g        float64\n",
            " 155  collagen-meat-protein-ratio_100g            float64\n",
            " 156  cocoa_100g                                  float64\n",
            " 157  chlorophyl_100g                             float64\n",
            " 158  carbon-footprint_100g                       float64\n",
            " 159  nutrition-score-fr_100g                     float64\n",
            " 160  nutrition-score-uk_100g                     float64\n",
            " 161  glycemic-index_100g                         float64\n",
            " 162  water-hardness_100g                         float64\n",
            "dtypes: float64(107), object(56)\n",
            "memory usage: 349.8+ MB\n"
          ]
        }
      ]
    },
    {
      "cell_type": "code",
      "source": [
        "tabla.dtypes['-glucose_100g']"
      ],
      "metadata": {
        "colab": {
          "base_uri": "https://localhost:8080/"
        },
        "id": "8rOHPzOH75RV",
        "outputId": "ddca3b45-1465-49fa-b18e-d178ee67eb24"
      },
      "execution_count": null,
      "outputs": [
        {
          "output_type": "execute_result",
          "data": {
            "text/plain": [
              "dtype('float64')"
            ]
          },
          "metadata": {},
          "execution_count": 20
        }
      ]
    },
    {
      "cell_type": "markdown",
      "metadata": {
        "id": "WBdCIP7bFEq6"
      },
      "source": [
        "### Step 10. How is the dataset indexed?"
      ]
    },
    {
      "cell_type": "code",
      "source": [
        "tabla.index\n"
      ],
      "metadata": {
        "colab": {
          "base_uri": "https://localhost:8080/"
        },
        "id": "0USgn8wq8L7S",
        "outputId": "6d3476b8-209e-4efc-ff2c-81cfda0d2392"
      },
      "execution_count": null,
      "outputs": [
        {
          "output_type": "execute_result",
          "data": {
            "text/plain": [
              "RangeIndex(start=0, stop=281286, step=1)"
            ]
          },
          "metadata": {},
          "execution_count": 21
        }
      ]
    },
    {
      "cell_type": "markdown",
      "metadata": {
        "id": "K9rNKC5lFEq8"
      },
      "source": [
        "### Step 11. What is the product name of the 19th observation?"
      ]
    },
    {
      "cell_type": "code",
      "source": [
        "tabla.iloc[19]"
      ],
      "metadata": {
        "colab": {
          "base_uri": "https://localhost:8080/"
        },
        "id": "x8ROnp8U8SSV",
        "outputId": "81997273-6117-467b-9f75-aff3791d0390"
      },
      "execution_count": null,
      "outputs": [
        {
          "output_type": "execute_result",
          "data": {
            "text/plain": [
              "code                                                                   18227\n",
              "url                        http://world-en.openfoodfacts.org/product/0000...\n",
              "creator                                                      usda-ndb-import\n",
              "created_t                                                         1489055682\n",
              "created_datetime                                        2017-03-09T10:34:42Z\n",
              "                                                 ...                        \n",
              "carbon-footprint_100g                                                    NaN\n",
              "nutrition-score-fr_100g                                                 -6.0\n",
              "nutrition-score-uk_100g                                                 -6.0\n",
              "glycemic-index_100g                                                      NaN\n",
              "water-hardness_100g                                                      NaN\n",
              "Name: 19, Length: 163, dtype: object"
            ]
          },
          "metadata": {},
          "execution_count": 23
        }
      ]
    },
    {
      "cell_type": "code",
      "source": [
        "tabla.values[18][7]"
      ],
      "metadata": {
        "colab": {
          "base_uri": "https://localhost:8080/",
          "height": 35
        },
        "id": "QmUwMck2-R11",
        "outputId": "0dd294cb-0b98-4234-894b-18b06841fc2b"
      },
      "execution_count": null,
      "outputs": [
        {
          "output_type": "execute_result",
          "data": {
            "text/plain": [
              "'Lotus Organic Brown Jasmine Rice'"
            ],
            "application/vnd.google.colaboratory.intrinsic+json": {
              "type": "string"
            }
          },
          "metadata": {},
          "execution_count": 25
        }
      ]
    }
  ],
  "metadata": {
    "anaconda-cloud": {},
    "kernelspec": {
      "display_name": "Python 3",
      "language": "python",
      "name": "python3"
    },
    "language_info": {
      "codemirror_mode": {
        "name": "ipython",
        "version": 3
      },
      "file_extension": ".py",
      "mimetype": "text/x-python",
      "name": "python",
      "nbconvert_exporter": "python",
      "pygments_lexer": "ipython3",
      "version": "3.7.3"
    },
    "toc": {
      "base_numbering": 1,
      "nav_menu": {},
      "number_sections": true,
      "sideBar": true,
      "skip_h1_title": false,
      "title_cell": "Table of Contents",
      "title_sidebar": "Contents",
      "toc_cell": false,
      "toc_position": {},
      "toc_section_display": true,
      "toc_window_display": false
    },
    "colab": {
      "name": "world_food_facts",
      "provenance": [],
      "include_colab_link": true
    }
  },
  "nbformat": 4,
  "nbformat_minor": 0
}